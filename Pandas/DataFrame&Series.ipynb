{
 "cells": [
  {
   "cell_type": "markdown",
   "id": "10a7f695-655b-4d8b-86d5-ffb3c1d643bd",
   "metadata": {},
   "source": [
    "Series"
   ]
  },
  {
   "cell_type": "code",
   "execution_count": 11,
   "id": "259a839d-808e-4c89-aaae-b5e0512b9c50",
   "metadata": {},
   "outputs": [
    {
     "name": "stdout",
     "output_type": "stream",
     "text": [
      "a    3.0\n",
      "s    4.0\n",
      "h    5.0\n",
      "m    6.0\n",
      "l    7.0\n",
      "Name: python, dtype: float64\n",
      "<class 'pandas.core.series.Series'>\n",
      "5.0\n"
     ]
    }
   ],
   "source": [
    "import pandas as pd\n",
    "x = [3,4,5,6,7]\n",
    "var = pd.Series(x, index=['a','s','h','m','l'],dtype='float', name='python')\n",
    "print(var)\n",
    "print(type(var))\n",
    "print(var['h'])"
   ]
  },
  {
   "cell_type": "code",
   "execution_count": 13,
   "id": "e6bcd150-f64e-400c-95db-d996763c3c35",
   "metadata": {},
   "outputs": [
    {
     "name": "stdout",
     "output_type": "stream",
     "text": [
      "name    [python, c, c++, java]\n",
      "por           [13, 14, 15, 16]\n",
      "rank              [1, 4, 3, 2]\n",
      "Name: Languages, dtype: object\n"
     ]
    }
   ],
   "source": [
    "disc = {\"name\":[\"python\",'c','c++','java'],\"por\":[13,14,15,16],\"rank\":[1,4,3,2]}\n",
    "var1 = pd.Series(disc,name=\"Languages\")\n",
    "print(var1)"
   ]
  },
  {
   "cell_type": "code",
   "execution_count": 16,
   "id": "bb54a480-fb46-4932-8f70-02fd001c91a7",
   "metadata": {},
   "outputs": [
    {
     "name": "stdout",
     "output_type": "stream",
     "text": [
      "1    12\n",
      "2    12\n",
      "3    12\n",
      "4    12\n",
      "5    12\n",
      "6    12\n",
      "7    12\n",
      "dtype: int64\n",
      "<class 'pandas.core.series.Series'>\n"
     ]
    }
   ],
   "source": [
    "s = pd.Series(12,index=[1,2,3,4,5,6,7])\n",
    "print(s)\n",
    "print(type(s))"
   ]
  },
  {
   "cell_type": "code",
   "execution_count": 17,
   "id": "dbd52c59-a624-47a1-8345-6ecd91c52dd7",
   "metadata": {},
   "outputs": [
    {
     "name": "stdout",
     "output_type": "stream",
     "text": [
      "1    24.0\n",
      "2    24.0\n",
      "3    24.0\n",
      "4    24.0\n",
      "5     NaN\n",
      "6     NaN\n",
      "7     NaN\n",
      "dtype: float64\n",
      "<class 'pandas.core.series.Series'>\n"
     ]
    }
   ],
   "source": [
    "s1 = pd.Series(12,index=[1,2,3,4,5,6,7])\n",
    "s2 = pd.Series(12,index=[1,2,3,4])\n",
    "s3 = s1 + s2\n",
    "print(s3)\n",
    "print(type(s3))"
   ]
  },
  {
   "cell_type": "markdown",
   "id": "c8b03c1f-0e60-4c63-a390-11e2bdd96daa",
   "metadata": {},
   "source": [
    "Dataframes"
   ]
  },
  {
   "cell_type": "code",
   "execution_count": 18,
   "id": "d8d1ced4-9409-4d4d-bf7e-031fa063edec",
   "metadata": {},
   "outputs": [
    {
     "name": "stdout",
     "output_type": "stream",
     "text": [
      "   0\n",
      "0  1\n",
      "1  2\n",
      "2  3\n",
      "3  4\n",
      "4  5\n",
      "5  6 <class 'pandas.core.frame.DataFrame'>\n"
     ]
    }
   ],
   "source": [
    "l = [1,2,3,4,5,6]\n",
    "var = pd.DataFrame(l)\n",
    "print(var,type(var))\n"
   ]
  },
  {
   "cell_type": "code",
   "execution_count": 25,
   "id": "5722f8e1-d06f-41c9-8f73-a3d12ccd8f6a",
   "metadata": {},
   "outputs": [
    {
     "name": "stdout",
     "output_type": "stream",
     "text": [
      "   a  s  h\n",
      "a  1  1  1\n",
      "s  2  2  2\n",
      "d  3  3  3\n",
      "f  4  4  4\n",
      "g  5  5  5\n",
      "<class 'pandas.core.frame.DataFrame'>\n",
      "3\n"
     ]
    }
   ],
   "source": [
    "d = {\"a\":[1,2,3,4,5],\"b\":[1,2,3,4,5],\"s\":[1,2,3,4,5],\"h\":[1,2,3,4,5]}#values of length is equal otherwise it show error\n",
    "var1 = pd.DataFrame(d,columns=[\"a\",\"s\",\"h\"],index=[\"a\",\"s\",\"d\",\"f\",\"g\"])\n",
    "print(var1)\n",
    "print(type(var1))\n",
    "print(var1[\"h\"][\"d\"])"
   ]
  },
  {
   "cell_type": "code",
   "execution_count": 28,
   "id": "39c3dd6c-4e1d-4ada-a8da-0281bb3dccd6",
   "metadata": {},
   "outputs": [
    {
     "name": "stdout",
     "output_type": "stream",
     "text": [
      "   0  1  2   3   4   5\n",
      "0  1  2  3   4   5   6\n",
      "1  7  8  9  10  11  12 <class 'pandas.core.frame.DataFrame'>\n"
     ]
    }
   ],
   "source": [
    "list_1 = [[1,2,3,4,5,6],[7,8,9,10,11,12]]\n",
    "var2 = pd.DataFrame(list_1)\n",
    "print(var2,type(var2))"
   ]
  },
  {
   "cell_type": "code",
   "execution_count": 33,
   "id": "7f8d04a4-1935-436e-894c-3167e9ee57d7",
   "metadata": {},
   "outputs": [
    {
     "name": "stdout",
     "output_type": "stream",
     "text": [
      "{'s': 0    1\n",
      "1    2\n",
      "2    3\n",
      "3    4\n",
      "dtype: int64, 'r': 0    1\n",
      "1    2\n",
      "2    3\n",
      "3    4\n",
      "dtype: int64}\n"
     ]
    }
   ],
   "source": [
    "sr = {\"s\":pd.Series([1,2,3,4]),\"r\":pd.Series([1,2,3,4])}\n",
    "print(sr)"
   ]
  },
  {
   "cell_type": "code",
   "execution_count": 3,
   "id": "53289ffe-f782-4abf-b594-ec49fc87f19b",
   "metadata": {},
   "outputs": [
    {
     "name": "stdout",
     "output_type": "stream",
     "text": [
      "<class 'pandas.core.frame.DataFrame'>\n"
     ]
    },
    {
     "data": {
      "text/plain": [
       "pandas.core.series.Series"
      ]
     },
     "execution_count": 3,
     "metadata": {},
     "output_type": "execute_result"
    }
   ],
   "source": [
    "import pandas as pd\n",
    "st = {'Name':['Ritu','Taniya','Abhishek','Tanmay','Mayank'],\n",
    "      'Branch':['it','cse','it','ece','ai'],\n",
    "      'Class':[2,3,4,1,5],\n",
    "      'City':['Jaipur','agra','vrindhavan','mathura','German']}\n",
    "st_data = pd.DataFrame(st)\n",
    "print(type(st_data))\n",
    "print(st_data)\n",
    "print(st_data['Name'])\n",
    "type(st_data['Name'])"
   ]
  },
  {
   "cell_type": "code",
   "execution_count": null,
   "id": "691cd69a-b9ff-4e17-88df-b1992c7785f2",
   "metadata": {},
   "outputs": [],
   "source": []
  },
  {
   "cell_type": "code",
   "execution_count": null,
   "id": "6b29a57e-7028-4fcc-a282-d13242f98303",
   "metadata": {},
   "outputs": [],
   "source": []
  },
  {
   "cell_type": "code",
   "execution_count": null,
   "id": "ddc34685-f981-468b-b842-c71acdb08ca3",
   "metadata": {},
   "outputs": [],
   "source": []
  }
 ],
 "metadata": {
  "kernelspec": {
   "display_name": "Python 3 (ipykernel)",
   "language": "python",
   "name": "python3"
  },
  "language_info": {
   "codemirror_mode": {
    "name": "ipython",
    "version": 3
   },
   "file_extension": ".py",
   "mimetype": "text/x-python",
   "name": "python",
   "nbconvert_exporter": "python",
   "pygments_lexer": "ipython3",
   "version": "3.12.4"
  }
 },
 "nbformat": 4,
 "nbformat_minor": 5
}
