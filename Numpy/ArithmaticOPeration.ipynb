{
 "cells": [
  {
   "cell_type": "markdown",
   "id": "83c6b0bd-348a-41ee-97e4-2e01b44668c0",
   "metadata": {},
   "source": [
    "Arithmatic Operation"
   ]
  },
  {
   "cell_type": "code",
   "execution_count": 2,
   "id": "2819584a-09a5-4058-9ca3-4d4c7b29d52f",
   "metadata": {},
   "outputs": [
    {
     "name": "stdout",
     "output_type": "stream",
     "text": [
      "[4 5 6 7]\n"
     ]
    }
   ],
   "source": [
    "import numpy as np\n",
    "var = np.array([1,2,3,4])\n",
    "varadd = var+3\n",
    "print(varadd)"
   ]
  },
  {
   "cell_type": "code",
   "execution_count": 11,
   "id": "1bd71a47-ee57-4294-9075-76777367bcc1",
   "metadata": {},
   "outputs": [
    {
     "name": "stdout",
     "output_type": "stream",
     "text": [
      "[ 6  8 10 12]\n"
     ]
    }
   ],
   "source": [
    "var1 = np.array([1,2,3,4])\n",
    "var2 = np.array([5,6,7,8])\n",
    "varadd = var1+var2\n",
    "print(varadd)"
   ]
  },
  {
   "cell_type": "code",
   "execution_count": 15,
   "id": "a06b2758-f7b0-4b1a-bd56-ea1f198b6ce4",
   "metadata": {},
   "outputs": [
    {
     "name": "stdout",
     "output_type": "stream",
     "text": [
      "[ 6  8 10 12]\n"
     ]
    }
   ],
   "source": [
    "var1 = np.array([1,2,3,4])\n",
    "var2 = np.array([5,6,7,8])\n",
    "varadd = np.add(var1,var2)\n",
    "print(varadd)"
   ]
  },
  {
   "cell_type": "code",
   "execution_count": 16,
   "id": "d1cb9dd1-599d-467a-b29e-1aa096309470",
   "metadata": {},
   "outputs": [
    {
     "name": "stdout",
     "output_type": "stream",
     "text": [
      "[3 4 5 6]\n"
     ]
    }
   ],
   "source": [
    "var1 = np.array([1,2,3,4])\n",
    "var2 = np.array([5,6,7,8])\n",
    "varadd = np.add(var1,2)\n",
    "print(varadd)"
   ]
  },
  {
   "cell_type": "code",
   "execution_count": 9,
   "id": "dcdaaa35-842b-4ab2-8fbb-82a7246703f3",
   "metadata": {},
   "outputs": [
    {
     "name": "stdout",
     "output_type": "stream",
     "text": [
      "[4 4 4 4]\n"
     ]
    }
   ],
   "source": [
    "var1 = np.array([1,2,3,4])\n",
    "var2 = np.array([5,6,7,8])\n",
    "varsub = var2-var1\n",
    "print(varsub)"
   ]
  },
  {
   "cell_type": "code",
   "execution_count": 8,
   "id": "fa553a45-bc79-4e74-8fa2-98db1fcc71c1",
   "metadata": {},
   "outputs": [
    {
     "name": "stdout",
     "output_type": "stream",
     "text": [
      "[5 3 2 2]\n"
     ]
    }
   ],
   "source": [
    "var1 = np.array([1,2,3,4])\n",
    "var2 = np.array([5,6,7,8])\n",
    "vardiv = var2//var1\n",
    "print(vardiv)"
   ]
  },
  {
   "cell_type": "code",
   "execution_count": 7,
   "id": "6f9401b6-2b71-40dd-8084-32715c1c81b5",
   "metadata": {},
   "outputs": [
    {
     "name": "stdout",
     "output_type": "stream",
     "text": [
      "[ 5 12 21 32]\n"
     ]
    }
   ],
   "source": [
    "var1 = np.array([1,2,3,4])\n",
    "var2 = np.array([5,6,7,8])\n",
    "varmult = var1*var2\n",
    "print(varmult)"
   ]
  },
  {
   "cell_type": "code",
   "execution_count": 10,
   "id": "0d3fed13-7eb0-4dd7-995d-35ec51fe7958",
   "metadata": {},
   "outputs": [
    {
     "name": "stdout",
     "output_type": "stream",
     "text": [
      "[1 2 3 4]\n"
     ]
    }
   ],
   "source": [
    "var1 = np.array([1,2,3,4])\n",
    "var2 = np.array([5,6,7,8])\n",
    "varadd = var1%var2\n",
    "print(varadd)"
   ]
  },
  {
   "cell_type": "code",
   "execution_count": 17,
   "id": "3afc516e-b73c-49f0-b5c4-374fdc402785",
   "metadata": {},
   "outputs": [
    {
     "name": "stdout",
     "output_type": "stream",
     "text": [
      "Power of 3 is 6561\n"
     ]
    }
   ],
   "source": [
    "x= 3\n",
    "power = np.power(x,8)\n",
    "print(f\"Power of {x} is {power}\")"
   ]
  },
  {
   "cell_type": "code",
   "execution_count": 18,
   "id": "18477c94-a974-429b-a6a4-4d2d6113e3b3",
   "metadata": {},
   "outputs": [
    {
     "name": "stdout",
     "output_type": "stream",
     "text": [
      "Mod of 5 is 1\n"
     ]
    }
   ],
   "source": [
    "x=5\n",
    "mod = np.mod(x,2)\n",
    "print(f\"Mod of {x} is {mod}\")"
   ]
  },
  {
   "cell_type": "code",
   "execution_count": 22,
   "id": "009832a1-2949-42b1-9bb5-78c06850e1b4",
   "metadata": {},
   "outputs": [
    {
     "name": "stdout",
     "output_type": "stream",
     "text": [
      "Reciprocal of 1 is 1\n"
     ]
    }
   ],
   "source": [
    "y=1\n",
    "reciprocal = np.reciprocal(y)\n",
    "print(f\"Reciprocal of {y} is {reciprocal}\")"
   ]
  },
  {
   "cell_type": "markdown",
   "id": "bc2e759f-f696-470a-9a98-37622ebfe036",
   "metadata": {},
   "source": [
    "2D array"
   ]
  },
  {
   "cell_type": "code",
   "execution_count": 23,
   "id": "d4f16fab-d533-4d7e-9117-4fac03dc6b7e",
   "metadata": {},
   "outputs": [
    {
     "name": "stdout",
     "output_type": "stream",
     "text": [
      "[[2 4 6 8]\n",
      " [2 4 6 8]]\n"
     ]
    }
   ],
   "source": [
    "var1 = np.array([[1,2,3,4],[1,2,3,4]])\n",
    "var2 = np.array([[1,2,3,4],[1,2,3,4]])\n",
    "varadd = np.add(var1,var2)\n",
    "print(varadd)"
   ]
  },
  {
   "cell_type": "code",
   "execution_count": 26,
   "id": "1feafca2-a10e-4aae-980d-31ca09b97c51",
   "metadata": {},
   "outputs": [
    {
     "name": "stdout",
     "output_type": "stream",
     "text": [
      "[[1 0 0 0]\n",
      " [1 0 0 0]]\n"
     ]
    }
   ],
   "source": [
    "var1 = np.array([[1,2,3,4],[1,2,3,4]])\n",
    "var2 = np.array([[1,2,3,4],[1,2,3,4]])\n",
    "varadd = np.reciprocal(var1,var2)\n",
    "print(varadd)"
   ]
  },
  {
   "cell_type": "code",
   "execution_count": 37,
   "id": "40cf73af-d031-470f-be6b-9a9a4fe94dca",
   "metadata": {},
   "outputs": [
    {
     "name": "stdout",
     "output_type": "stream",
     "text": [
      "min 4 at position 1\n",
      "max 90 at position 5\n",
      "sqrt [7.48331477 2.         2.44948974 4.89897949 5.65685425 9.48683298]\n"
     ]
    }
   ],
   "source": [
    "arr = np.array([56,4,6,24,32,90])\n",
    "print(f\"min {np.min(arr)} at position {np.argmin(arr)}\")\n",
    "print(f\"max {np.max(arr)} at position {np.argmax(arr)}\")\n",
    "print(f\"sqrt {np.sqrt(arr)}\")"
   ]
  },
  {
   "cell_type": "code",
   "execution_count": 35,
   "id": "ac07b419-a273-40d7-9352-001b357992d1",
   "metadata": {},
   "outputs": [
    {
     "name": "stdout",
     "output_type": "stream",
     "text": [
      "[ 5 32 21]\n"
     ]
    }
   ],
   "source": [
    "arr = np.array([[1,2,21],[5,32,11]])\n",
    "print(np.max(arr,axis=0))"
   ]
  },
  {
   "cell_type": "code",
   "execution_count": 40,
   "id": "2dd7da40-4cb0-451d-8fe2-5c4ca692bb3e",
   "metadata": {},
   "outputs": [
    {
     "name": "stdout",
     "output_type": "stream",
     "text": [
      "[0.84147098 0.90929743 0.14112001]\n",
      "[ 0.54030231 -0.41614684 -0.9899925 ]\n",
      "[1 3 6]\n"
     ]
    }
   ],
   "source": [
    "fuc = np.array([1,2,3])\n",
    "print(np.sin(fuc))\n",
    "print(np.cos(fuc))\n",
    "print(np.cumsum(fuc))"
   ]
  },
  {
   "cell_type": "code",
   "execution_count": null,
   "id": "379e7dba-8ea3-4dc4-9196-e104d3f4b097",
   "metadata": {},
   "outputs": [],
   "source": []
  },
  {
   "cell_type": "code",
   "execution_count": null,
   "id": "6d1932e6-f7af-45cd-81bb-4dd484ee7dec",
   "metadata": {},
   "outputs": [],
   "source": []
  }
 ],
 "metadata": {
  "kernelspec": {
   "display_name": "Python 3 (ipykernel)",
   "language": "python",
   "name": "python3"
  },
  "language_info": {
   "codemirror_mode": {
    "name": "ipython",
    "version": 3
   },
   "file_extension": ".py",
   "mimetype": "text/x-python",
   "name": "python",
   "nbconvert_exporter": "python",
   "pygments_lexer": "ipython3",
   "version": "3.12.4"
  }
 },
 "nbformat": 4,
 "nbformat_minor": 5
}
