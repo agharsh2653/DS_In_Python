{
 "cells": [
  {
   "cell_type": "code",
   "execution_count": null,
   "id": "a22b326a-b187-4fac-82c9-3267eeab851b",
   "metadata": {},
   "outputs": [],
   "source": []
  },
  {
   "cell_type": "markdown",
   "id": "ea021793-ac7e-4f05-b49f-5564a2830cc8",
   "metadata": {},
   "source": [
    "Array\n"
   ]
  },
  {
   "cell_type": "code",
   "execution_count": 42,
   "id": "55dc4a39-7e91-486b-9c05-f38d4935b7ba",
   "metadata": {},
   "outputs": [
    {
     "name": "stdout",
     "output_type": "stream",
     "text": [
      "[1 2 3 4 5]\n",
      "<class 'numpy.ndarray'>\n",
      "1\n"
     ]
    }
   ],
   "source": [
    "import numpy as np\n",
    "x= [1,2,3,4]\n",
    "y = np.array([1,2,3,4,5])\n",
    "print(y)\n",
    "y\n",
    "print(type(y))\n",
    "print(y.ndim)"
   ]
  },
  {
   "cell_type": "code",
   "execution_count": 43,
   "id": "5f603df4-a309-4212-9d72-7c7f32b4af5b",
   "metadata": {},
   "outputs": [
    {
     "name": "stdin",
     "output_type": "stream",
     "text": [
      "Enter : 1\n",
      "Enter : 23\n",
      "Enter : 45\n",
      "Enter : 67\n"
     ]
    },
    {
     "name": "stdout",
     "output_type": "stream",
     "text": [
      "[ 1 23 45 67]\n"
     ]
    }
   ],
   "source": [
    "l=[]\n",
    "for i in range(0,4):\n",
    "    int_1 = int(input(\"Enter :\"))\n",
    "    l.append(int_1)\n",
    "\n",
    "print(np.array(l))"
   ]
  },
  {
   "cell_type": "code",
   "execution_count": 48,
   "id": "060681a0-94c8-4c58-9a1f-1647c161f549",
   "metadata": {},
   "outputs": [
    {
     "name": "stdout",
     "output_type": "stream",
     "text": [
      "[[1 2 3 4]\n",
      " [5 6 7 8]]\n",
      "<class 'numpy.ndarray'>\n",
      "2\n"
     ]
    }
   ],
   "source": [
    "arr2 = np.array([[1,2,3,4],[5,6,7,8]])\n",
    "print(arr2)\n",
    "print(type(arr2))\n",
    "print(arr2.ndim)"
   ]
  },
  {
   "cell_type": "code",
   "execution_count": 50,
   "id": "c254cf6c-9367-424c-96bb-feecb84698a5",
   "metadata": {},
   "outputs": [
    {
     "data": {
      "text/plain": [
       "array([[1, 2, 3, 4]])"
      ]
     },
     "execution_count": 50,
     "metadata": {},
     "output_type": "execute_result"
    }
   ],
   "source": [
    "arr2[0:1,0:]"
   ]
  },
  {
   "cell_type": "code",
   "execution_count": 51,
   "id": "956064c7-2f73-4274-80df-6edd9544342e",
   "metadata": {},
   "outputs": [
    {
     "name": "stdout",
     "output_type": "stream",
     "text": [
      "[[[1 2 3]\n",
      "  [1 2 3]\n",
      "  [1 2 3]]]\n",
      "3\n"
     ]
    }
   ],
   "source": [
    "arr3 = np.array([[[1,2,3],[1,2,3],[1,2,3]]])\n",
    "print(arr3)\n",
    "print(arr3.ndim)"
   ]
  },
  {
   "cell_type": "code",
   "execution_count": 54,
   "id": "eb1c016d-7c4f-4c79-8a48-d9d81c15c1c6",
   "metadata": {},
   "outputs": [
    {
     "name": "stdout",
     "output_type": "stream",
     "text": [
      "[[[[[[[[[[1 2 3 4]]]]]]]]]]\n",
      "10\n"
     ]
    }
   ],
   "source": [
    "arn = np.array([1,2,3,4], ndmin =10)\n",
    "print(arn)\n",
    "print(arn.ndim)"
   ]
  },
  {
   "cell_type": "code",
   "execution_count": 17,
   "id": "594a1da5-7b6a-43ed-9a63-ea585b8e1735",
   "metadata": {},
   "outputs": [
    {
     "name": "stdout",
     "output_type": "stream",
     "text": [
      "97\n",
      "10\n",
      "15.5\n",
      "2.0\n",
      "5040\n",
      "5\n",
      "14\n"
     ]
    }
   ],
   "source": [
    "import math\n",
    "print(max(10,20,44,18,97))\n",
    "print(min(10,20,44,18,97))\n",
    "print(abs(-15.5))\n",
    "print(math.sqrt(4))\n",
    "print(math.factorial(7))\n",
    "print(math.lcm(5))\n",
    "print(math.gcd(14))\n"
   ]
  },
  {
   "cell_type": "code",
   "execution_count": 18,
   "id": "bfe4bd4c-c8fe-4f81-9f3e-209957d5afab",
   "metadata": {},
   "outputs": [
    {
     "data": {
      "text/plain": [
       "['__doc__',\n",
       " '__loader__',\n",
       " '__name__',\n",
       " '__package__',\n",
       " '__spec__',\n",
       " 'acos',\n",
       " 'acosh',\n",
       " 'asin',\n",
       " 'asinh',\n",
       " 'atan',\n",
       " 'atan2',\n",
       " 'atanh',\n",
       " 'cbrt',\n",
       " 'ceil',\n",
       " 'comb',\n",
       " 'copysign',\n",
       " 'cos',\n",
       " 'cosh',\n",
       " 'degrees',\n",
       " 'dist',\n",
       " 'e',\n",
       " 'erf',\n",
       " 'erfc',\n",
       " 'exp',\n",
       " 'exp2',\n",
       " 'expm1',\n",
       " 'fabs',\n",
       " 'factorial',\n",
       " 'floor',\n",
       " 'fmod',\n",
       " 'frexp',\n",
       " 'fsum',\n",
       " 'gamma',\n",
       " 'gcd',\n",
       " 'hypot',\n",
       " 'inf',\n",
       " 'isclose',\n",
       " 'isfinite',\n",
       " 'isinf',\n",
       " 'isnan',\n",
       " 'isqrt',\n",
       " 'lcm',\n",
       " 'ldexp',\n",
       " 'lgamma',\n",
       " 'log',\n",
       " 'log10',\n",
       " 'log1p',\n",
       " 'log2',\n",
       " 'modf',\n",
       " 'nan',\n",
       " 'nextafter',\n",
       " 'perm',\n",
       " 'pi',\n",
       " 'pow',\n",
       " 'prod',\n",
       " 'radians',\n",
       " 'remainder',\n",
       " 'sin',\n",
       " 'sinh',\n",
       " 'sqrt',\n",
       " 'sumprod',\n",
       " 'tan',\n",
       " 'tanh',\n",
       " 'tau',\n",
       " 'trunc',\n",
       " 'ulp']"
      ]
     },
     "execution_count": 18,
     "metadata": {},
     "output_type": "execute_result"
    }
   ],
   "source": [
    "import math \n",
    "dir(math)"
   ]
  },
  {
   "cell_type": "code",
   "execution_count": 21,
   "id": "f850c871-48ca-499e-a23e-01c6e65550d1",
   "metadata": {},
   "outputs": [
    {
     "name": "stdout",
     "output_type": "stream",
     "text": [
      "2\n"
     ]
    }
   ],
   "source": [
    "print(math.perm(2))"
   ]
  },
  {
   "cell_type": "code",
   "execution_count": null,
   "id": "bbfadcdb-360a-4b7d-84fe-e621b9a45fd9",
   "metadata": {},
   "outputs": [],
   "source": []
  },
  {
   "cell_type": "code",
   "execution_count": null,
   "id": "4030eade-ef44-4eda-a93e-95f2947f4667",
   "metadata": {},
   "outputs": [],
   "source": []
  },
  {
   "cell_type": "code",
   "execution_count": null,
   "id": "d8693784-022a-4022-991a-1a878d7f590b",
   "metadata": {},
   "outputs": [],
   "source": []
  },
  {
   "cell_type": "code",
   "execution_count": null,
   "id": "8da5e8cc-4b95-438f-a897-9a489743779a",
   "metadata": {},
   "outputs": [],
   "source": []
  }
 ],
 "metadata": {
  "kernelspec": {
   "display_name": "Python 3 (ipykernel)",
   "language": "python",
   "name": "python3"
  },
  "language_info": {
   "codemirror_mode": {
    "name": "ipython",
    "version": 3
   },
   "file_extension": ".py",
   "mimetype": "text/x-python",
   "name": "python",
   "nbconvert_exporter": "python",
   "pygments_lexer": "ipython3",
   "version": "3.12.4"
  }
 },
 "nbformat": 4,
 "nbformat_minor": 5
}
