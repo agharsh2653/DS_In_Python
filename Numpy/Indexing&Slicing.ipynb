{
 "cells": [
  {
   "cell_type": "markdown",
   "id": "5d48d618-4a03-47ad-ad30-cef2ff7d1b94",
   "metadata": {},
   "source": [
    "Indexing"
   ]
  },
  {
   "cell_type": "code",
   "execution_count": 10,
   "id": "9110e41d-dd83-44d4-9166-8937d50afd74",
   "metadata": {},
   "outputs": [
    {
     "name": "stdout",
     "output_type": "stream",
     "text": [
      "4\n",
      "3\n"
     ]
    }
   ],
   "source": [
    "import numpy as np\n",
    "arr = np.array([3,4,5,6])\n",
    "print(arr[1])\n",
    "print(arr[-4])"
   ]
  },
  {
   "cell_type": "code",
   "execution_count": 16,
   "id": "326293d3-a878-4f10-9108-892bc2f36163",
   "metadata": {},
   "outputs": [
    {
     "name": "stdout",
     "output_type": "stream",
     "text": [
      "[[1 2 3]\n",
      " [4 5 6]]\n",
      "2\n",
      "6\n",
      "6\n"
     ]
    }
   ],
   "source": [
    "var2 = np.array([[1,2,3],[4,5,6]])\n",
    "print(var2)\n",
    "print(var2.ndim)\n",
    "print(var2[1,2])\n",
    "print(var2[1][2])"
   ]
  },
  {
   "cell_type": "code",
   "execution_count": 23,
   "id": "7955a921-7710-4a85-8a5d-8ed63822e0bc",
   "metadata": {},
   "outputs": [
    {
     "name": "stdout",
     "output_type": "stream",
     "text": [
      "[[[ 1  2  3]\n",
      "  [ 4  5  6]]\n",
      "\n",
      " [[ 7  8  9]\n",
      "  [10 11 12]]]\n",
      "3\n",
      "6\n",
      "10\n"
     ]
    }
   ],
   "source": [
    "var3 = np.array([[[1,2,3],[4,5,6]],[[7,8,9],[10,11,12]]])\n",
    "print(var3)\n",
    "print(var3.ndim)\n",
    "print(var3[0,1,2])\n",
    "print(var3[1,1,-3])"
   ]
  },
  {
   "cell_type": "markdown",
   "id": "6b43ea2d-777f-4672-a933-ba5b9223e4eb",
   "metadata": {},
   "source": [
    "Slicing"
   ]
  },
  {
   "cell_type": "code",
   "execution_count": 29,
   "id": "3e26e77e-a78f-40bf-aea5-9019664de06a",
   "metadata": {},
   "outputs": [
    {
     "name": "stdout",
     "output_type": "stream",
     "text": [
      "[2 3 4 5 6]\n",
      "3 to 5 [3 4 5]\n",
      "3 to end [3 4 5 6]\n",
      "start to 4 [2 3 4]\n",
      "[3 5]\n"
     ]
    }
   ],
   "source": [
    "var1 = np.array([2,3,4,5,6])\n",
    "print(var1)\n",
    "print(\"3 to 5\",var1[1:4])\n",
    "print(\"3 to end\",var1[1:])\n",
    "print(\"start to 4\",var1[:3])\n",
    "print(var1[1:5:2])"
   ]
  },
  {
   "cell_type": "code",
   "execution_count": 35,
   "id": "fe4fcfbb-eb2f-4352-9fd1-d4754284bf5b",
   "metadata": {},
   "outputs": [
    {
     "name": "stdout",
     "output_type": "stream",
     "text": [
      "[[9 8 7]\n",
      " [6 5 4]\n",
      " [3 2 1]]\n",
      "2\n",
      "5\n",
      "2\n",
      "[[6 5]\n",
      " [3 2]]\n"
     ]
    }
   ],
   "source": [
    "var2 = np.array([[9,8,7],[6,5,4],[3,2,1]])\n",
    "print(var2)\n",
    "print(var2.ndim)\n",
    "print(var2[1,1])\n",
    "print(var2[2,1])\n",
    "print(var2[1:3,0:2])"
   ]
  },
  {
   "cell_type": "code",
   "execution_count": 39,
   "id": "7226fbf5-dace-4906-86f5-c81966402600",
   "metadata": {},
   "outputs": [
    {
     "name": "stdout",
     "output_type": "stream",
     "text": [
      "[[ 1  2  3  4  5]\n",
      " [ 9  8  7  6  5]\n",
      " [11 12 13 14 15]]\n",
      "2\n",
      "8 to 5 [8 7 6 5]\n",
      "5 to 8 [5 6 7 8]\n"
     ]
    }
   ],
   "source": [
    "var2d = np.array([[1,2,3,4,5],[9,8,7,6,5],[11,12,13,14,15]])\n",
    "print(var2d)\n",
    "print(var2d.ndim)\n",
    "print(\"8 to 5\",var2d[1,1:5])\n",
    "print(\"5 to 8\",var2d[1,4:0:-1])"
   ]
  },
  {
   "cell_type": "code",
   "execution_count": 44,
   "id": "71221742-165b-4c26-9071-5859d50910ae",
   "metadata": {},
   "outputs": [
    {
     "name": "stdout",
     "output_type": "stream",
     "text": [
      "[[[ 1  2  3]\n",
      "  [ 4  5  6]]\n",
      "\n",
      " [[ 7  8  9]\n",
      "  [10 11 12]]]\n",
      "3\n",
      "2 to 5 [[2 3]\n",
      " [5 6]]\n"
     ]
    }
   ],
   "source": [
    "var3 = np.array([[[1,2,3],[4,5,6]],[[7,8,9],[10,11,12]]])\n",
    "print(var3)\n",
    "print(var3.ndim)\n",
    "print(\"2 to 5\",var3[0,0:2,1:])\n"
   ]
  },
  {
   "cell_type": "code",
   "execution_count": 48,
   "id": "0014d694-50ce-4614-9087-0425db81313a",
   "metadata": {},
   "outputs": [
    {
     "name": "stdout",
     "output_type": "stream",
     "text": [
      "[[[ 10 102 145]\n",
      "  [130 160   2]\n",
      "  [177  33 122]\n",
      "  [183 103  57]\n",
      "  [ 42  41  40]]\n",
      "\n",
      " [[157  18  40]\n",
      "  [154 141 187]\n",
      "  [ 65  53 145]\n",
      "  [177  15  10]\n",
      "  [128  45  56]]\n",
      "\n",
      " [[ 28   8 137]\n",
      "  [121  79  41]\n",
      "  [178  45  14]\n",
      "  [ 51   6 104]\n",
      "  [139  20  99]]]\n",
      "[[15 10]\n",
      " [45 56]]\n",
      "[[[ 10 102 145]]\n",
      "\n",
      " [[157  18  40]]\n",
      "\n",
      " [[ 28   8 137]]]\n"
     ]
    }
   ],
   "source": [
    "arr3d = np.random.randint(1,200,(3,5,3))\n",
    "print(arr3d)\n",
    "print(arr3d[1,3:,1:])\n",
    "print(arr3d[:,0:1,0:])"
   ]
  },
  {
   "cell_type": "code",
   "execution_count": null,
   "id": "9781f258-08d4-407e-97b3-32f508b494d2",
   "metadata": {},
   "outputs": [],
   "source": []
  }
 ],
 "metadata": {
  "kernelspec": {
   "display_name": "Python 3 (ipykernel)",
   "language": "python",
   "name": "python3"
  },
  "language_info": {
   "codemirror_mode": {
    "name": "ipython",
    "version": 3
   },
   "file_extension": ".py",
   "mimetype": "text/x-python",
   "name": "python",
   "nbconvert_exporter": "python",
   "pygments_lexer": "ipython3",
   "version": "3.12.4"
  }
 },
 "nbformat": 4,
 "nbformat_minor": 5
}
