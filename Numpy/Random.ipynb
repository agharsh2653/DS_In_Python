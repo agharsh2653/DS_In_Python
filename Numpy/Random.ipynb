{
 "cells": [
  {
   "cell_type": "markdown",
   "id": "77e6502b-3ec9-4e72-a491-f0ce5a7682d3",
   "metadata": {},
   "source": [
    "Random"
   ]
  },
  {
   "cell_type": "code",
   "execution_count": 6,
   "id": "4f2f9d2f-0944-456c-9b84-09b976811ce6",
   "metadata": {},
   "outputs": [
    {
     "name": "stdout",
     "output_type": "stream",
     "text": [
      "[0.70353618 0.63962573 0.6227476  0.5303067 ]\n"
     ]
    }
   ],
   "source": [
    "import numpy as np\n",
    "var = np.random.rand(4)#it generate the nuber between 0 and 1\n",
    "print(var)"
   ]
  },
  {
   "cell_type": "code",
   "execution_count": 5,
   "id": "ecd01e04-c104-439f-95e8-7f9b89dadf8e",
   "metadata": {},
   "outputs": [
    {
     "name": "stdout",
     "output_type": "stream",
     "text": [
      "[[0.70116209 0.02308778 0.87769227 0.63379964]\n",
      " [0.75490562 0.22146165 0.52500588 0.52512691]]\n"
     ]
    }
   ],
   "source": [
    "var1 = np.random.rand(2,4)\n",
    "print(var1)"
   ]
  },
  {
   "cell_type": "markdown",
   "id": "28d0e83e-b0ac-46e3-b937-1a9ed3838f5c",
   "metadata": {},
   "source": [
    "randn() generate the random number 0 or greater then 0 it can be positive or nagetive"
   ]
  },
  {
   "cell_type": "code",
   "execution_count": 7,
   "id": "aaff6f1b-6693-4d71-8dfa-99c02f231674",
   "metadata": {},
   "outputs": [
    {
     "name": "stdout",
     "output_type": "stream",
     "text": [
      "[-1.54262806  0.74528391 -0.9140038   0.31697693]\n"
     ]
    }
   ],
   "source": [
    "var2 = np.random.randn(4)\n",
    "print(var2)"
   ]
  },
  {
   "cell_type": "markdown",
   "id": "dca3a142-b2c4-4ee3-96aa-db41e5d81fab",
   "metadata": {},
   "source": [
    "ranf generate number interval [0.0,1.0) not 1 closer than zero"
   ]
  },
  {
   "cell_type": "code",
   "execution_count": 9,
   "id": "3fb3724a-d617-488c-aab4-5296d7c9fc00",
   "metadata": {},
   "outputs": [
    {
     "name": "stdout",
     "output_type": "stream",
     "text": [
      "[0.3181932  0.59241617 0.00468729 0.6408703 ]\n"
     ]
    }
   ],
   "source": [
    "var3 = np.random.ranf(4)\n",
    "print(var3)"
   ]
  },
  {
   "cell_type": "markdown",
   "id": "d3012208-a71a-45ff-b903-2c82e902637f",
   "metadata": {},
   "source": [
    "randint() it has range defind function"
   ]
  },
  {
   "cell_type": "code",
   "execution_count": 13,
   "id": "d03f0c5c-1e90-4dd0-985f-06eb773980cd",
   "metadata": {},
   "outputs": [
    {
     "name": "stdout",
     "output_type": "stream",
     "text": [
      "[11 16 17 18]\n"
     ]
    }
   ],
   "source": [
    "var4 = np.random.randint(10,20,4)\n",
    "print(var4)"
   ]
  },
  {
   "cell_type": "code",
   "execution_count": null,
   "id": "c55a2d84-3bc8-4c20-94c6-7d339239fc1c",
   "metadata": {},
   "outputs": [],
   "source": []
  }
 ],
 "metadata": {
  "kernelspec": {
   "display_name": "Python 3 (ipykernel)",
   "language": "python",
   "name": "python3"
  },
  "language_info": {
   "codemirror_mode": {
    "name": "ipython",
    "version": 3
   },
   "file_extension": ".py",
   "mimetype": "text/x-python",
   "name": "python",
   "nbconvert_exporter": "python",
   "pygments_lexer": "ipython3",
   "version": "3.12.4"
  }
 },
 "nbformat": 4,
 "nbformat_minor": 5
}
