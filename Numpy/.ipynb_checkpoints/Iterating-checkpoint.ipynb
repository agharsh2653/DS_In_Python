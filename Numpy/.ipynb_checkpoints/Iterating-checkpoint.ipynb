{
 "cells": [
  {
   "cell_type": "markdown",
   "id": "1e2711d6-bc3a-425e-aed6-2a60ca8c5e98",
   "metadata": {},
   "source": [
    "Iterating"
   ]
  },
  {
   "cell_type": "code",
   "execution_count": 1,
   "id": "9b65da48-1905-47c8-adf5-62507a4fd3fa",
   "metadata": {},
   "outputs": [
    {
     "name": "stdout",
     "output_type": "stream",
     "text": [
      "9\n",
      "8\n",
      "7\n",
      "6\n",
      "5\n",
      "4\n"
     ]
    }
   ],
   "source": [
    "import numpy as np\n",
    "arr = np.array([9,8,7,6,5,4])\n",
    "for i in arr:\n",
    "    print(i)"
   ]
  },
  {
   "cell_type": "code",
   "execution_count": 3,
   "id": "4e8d0a5f-b49e-4480-9001-6bc399dd79af",
   "metadata": {},
   "outputs": [
    {
     "name": "stdout",
     "output_type": "stream",
     "text": [
      "[[1 2 3 4]\n",
      " [5 6 7 8]]\n",
      "[1 2 3 4]\n",
      "[5 6 7 8]\n",
      "\n",
      "1\n",
      "2\n",
      "3\n",
      "4\n",
      "5\n",
      "6\n",
      "7\n",
      "8\n"
     ]
    }
   ],
   "source": [
    "arr2 = np.array([[1,2,3,4],[5,6,7,8]])\n",
    "print(arr2)\n",
    "for i in arr2:\n",
    "    print(i)\n",
    "print()\n",
    "for i in arr2:\n",
    "    for j in i:\n",
    "        print(j)"
   ]
  },
  {
   "cell_type": "code",
   "execution_count": 4,
   "id": "aba90bde-6f3c-48bf-a746-422b5e381c42",
   "metadata": {},
   "outputs": [
    {
     "name": "stdout",
     "output_type": "stream",
     "text": [
      "[[[48 88]\n",
      "  [ 5 80]\n",
      "  [35 63]]\n",
      "\n",
      " [[42 15]\n",
      "  [84  3]\n",
      "  [57 38]]\n",
      "\n",
      " [[61 36]\n",
      "  [82 43]\n",
      "  [72 11]]]\n",
      "48\n",
      "88\n",
      "5\n",
      "80\n",
      "35\n",
      "63\n",
      "42\n",
      "15\n",
      "84\n",
      "3\n",
      "57\n",
      "38\n",
      "61\n",
      "36\n",
      "82\n",
      "43\n",
      "72\n",
      "11\n"
     ]
    }
   ],
   "source": [
    "arr3 = np.random.randint(1,99,(3,3,2))\n",
    "print(arr3)\n",
    "for i in arr3:\n",
    "    for j in i:\n",
    "        for k in j:\n",
    "            print(k)"
   ]
  },
  {
   "cell_type": "code",
   "execution_count": 14,
   "id": "65d9c5dd-d171-4398-8c6e-3f5b1adf81d4",
   "metadata": {},
   "outputs": [
    {
     "name": "stdout",
     "output_type": "stream",
     "text": [
      "[[[63  7]\n",
      "  [55 30]\n",
      "  [59 81]]\n",
      "\n",
      " [[79 98]\n",
      "  [82 64]\n",
      "  [29 32]]\n",
      "\n",
      " [[28 86]\n",
      "  [79 88]\n",
      "  [93 94]]]\n",
      "63\n",
      "7\n",
      "55\n",
      "30\n",
      "59\n",
      "81\n",
      "79\n",
      "98\n",
      "82\n",
      "64\n",
      "29\n",
      "32\n",
      "28\n",
      "86\n",
      "79\n",
      "88\n",
      "93\n",
      "94\n"
     ]
    }
   ],
   "source": [
    "arr3 = np.random.randint(1,99,(3,3,2))\n",
    "print(arr3)\n",
    "for i in np.nditer(arr3):\n",
    "    print(i)"
   ]
  },
  {
   "cell_type": "code",
   "execution_count": 15,
   "id": "c72ee721-682e-4a93-9344-856fa88613cc",
   "metadata": {},
   "outputs": [
    {
     "name": "stdout",
     "output_type": "stream",
     "text": [
      "[[[ 3 73]\n",
      "  [49 69]]\n",
      "\n",
      " [[25 13]\n",
      "  [87 58]]\n",
      "\n",
      " [[62 85]\n",
      "  [72 53]]]\n",
      "np.bytes_(b'3')\n",
      "np.bytes_(b'73')\n",
      "np.bytes_(b'49')\n",
      "np.bytes_(b'69')\n",
      "np.bytes_(b'25')\n",
      "np.bytes_(b'13')\n",
      "np.bytes_(b'87')\n",
      "np.bytes_(b'58')\n",
      "np.bytes_(b'62')\n",
      "np.bytes_(b'85')\n",
      "np.bytes_(b'72')\n",
      "np.bytes_(b'53')\n"
     ]
    }
   ],
   "source": [
    "arr3 = np.random.randint(1,99,(3,2,2))\n",
    "print(arr3)\n",
    "for i in np.nditer(arr3,flags=['buffered'],op_dtypes=[\"S\"]):\n",
    "    print(i)"
   ]
  },
  {
   "cell_type": "code",
   "execution_count": 17,
   "id": "a62340ac-ecd4-493a-9849-c1292e4ebe1c",
   "metadata": {},
   "outputs": [
    {
     "name": "stdout",
     "output_type": "stream",
     "text": [
      "[[[75 73]\n",
      "  [29  1]]\n",
      "\n",
      " [[31 16]\n",
      "  [80 90]]\n",
      "\n",
      " [[56 70]\n",
      "  [19 30]]]\n",
      "(0, 0, 0) 75\n",
      "(0, 0, 1) 73\n",
      "(0, 1, 0) 29\n",
      "(0, 1, 1) 1\n",
      "(1, 0, 0) 31\n",
      "(1, 0, 1) 16\n",
      "(1, 1, 0) 80\n",
      "(1, 1, 1) 90\n",
      "(2, 0, 0) 56\n",
      "(2, 0, 1) 70\n",
      "(2, 1, 0) 19\n",
      "(2, 1, 1) 30\n"
     ]
    }
   ],
   "source": [
    "arr3 = np.random.randint(1,99,(3,2,2))\n",
    "print(arr3)\n",
    "for index,val in np.ndenumerate(arr3):\n",
    "    print(index,val)"
   ]
  },
  {
   "cell_type": "code",
   "execution_count": null,
   "id": "34146957-7c9e-46e7-8e60-0c41f73e0bce",
   "metadata": {},
   "outputs": [],
   "source": []
  }
 ],
 "metadata": {
  "kernelspec": {
   "display_name": "Python 3 (ipykernel)",
   "language": "python",
   "name": "python3"
  },
  "language_info": {
   "codemirror_mode": {
    "name": "ipython",
    "version": 3
   },
   "file_extension": ".py",
   "mimetype": "text/x-python",
   "name": "python",
   "nbconvert_exporter": "python",
   "pygments_lexer": "ipython3",
   "version": "3.12.4"
  }
 },
 "nbformat": 4,
 "nbformat_minor": 5
}
