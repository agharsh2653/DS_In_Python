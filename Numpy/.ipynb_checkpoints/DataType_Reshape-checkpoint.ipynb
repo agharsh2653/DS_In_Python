{
 "cells": [
  {
   "cell_type": "markdown",
   "id": "b6c7a9e5-9155-49e1-a633-43cb1cc41f16",
   "metadata": {},
   "source": [
    "DATA TYPES"
   ]
  },
  {
   "cell_type": "code",
   "execution_count": 5,
   "id": "d23bc68a-1b30-4fad-b1d6-ef5f5d7ceb40",
   "metadata": {},
   "outputs": [
    {
     "name": "stdout",
     "output_type": "stream",
     "text": [
      "Data types:  int64\n"
     ]
    }
   ],
   "source": [
    "import numpy as np\n",
    "var = np.array([1,2,4,5,23,45,11,34])\n",
    "print(\"Data types: \",var.dtype)"
   ]
  },
  {
   "cell_type": "code",
   "execution_count": 6,
   "id": "97c39bc8-57a9-47a2-a8fc-1801b59e8707",
   "metadata": {},
   "outputs": [
    {
     "name": "stdout",
     "output_type": "stream",
     "text": [
      "Data type:  float64\n"
     ]
    }
   ],
   "source": [
    "var1 = np.array([1.2,1.45,2.4,67.8])\n",
    "print(\"Data type: \",var1.dtype)"
   ]
  },
  {
   "cell_type": "code",
   "execution_count": 7,
   "id": "925b6d9d-77d1-4ebe-b32b-5266fb6b0a4e",
   "metadata": {},
   "outputs": [
    {
     "name": "stdout",
     "output_type": "stream",
     "text": [
      "Data type:  <U1\n"
     ]
    }
   ],
   "source": [
    "var2 = np.array(['a','b','c'])\n",
    "print(\"Data type: \",var2.dtype)"
   ]
  },
  {
   "cell_type": "code",
   "execution_count": 8,
   "id": "695270c3-3407-4273-aa8a-2a8470c21501",
   "metadata": {},
   "outputs": [
    {
     "name": "stdout",
     "output_type": "stream",
     "text": [
      "Data type:  <U32\n"
     ]
    }
   ],
   "source": [
    "var3 = np.array(['a','b','c',1,1.2])\n",
    "print(\"Data type: \",var3.dtype)"
   ]
  },
  {
   "cell_type": "code",
   "execution_count": 12,
   "id": "0e288cec-b2c2-496f-a345-36ab82c72685",
   "metadata": {},
   "outputs": [
    {
     "name": "stdout",
     "output_type": "stream",
     "text": [
      "Data types:  int8\n"
     ]
    }
   ],
   "source": [
    "var = np.array([1,2,4,5,23,45,11,34],dtype=np.int8)\n",
    "print(\"Data types: \",var.dtype)"
   ]
  },
  {
   "cell_type": "code",
   "execution_count": 13,
   "id": "07802d2a-e54b-4914-be14-4eabafb214f3",
   "metadata": {},
   "outputs": [
    {
     "name": "stdout",
     "output_type": "stream",
     "text": [
      "Data types:  float32\n",
      "[ 1.  2.  4.  5. 23. 45. 11. 34.]\n"
     ]
    }
   ],
   "source": [
    "var = np.array([1,2,4,5,23,45,11,34],dtype='f')\n",
    "print(\"Data types: \",var.dtype)\n",
    "print(var)"
   ]
  },
  {
   "cell_type": "code",
   "execution_count": 17,
   "id": "e3e95963-d937-4698-9d19-e58c1c2fbc91",
   "metadata": {},
   "outputs": [
    {
     "name": "stdout",
     "output_type": "stream",
     "text": [
      "Data types:  int64\n",
      "Data types:  float32\n",
      "Data types:  int64\n",
      "[ 1  2  4  5 23 45 11 34]\n",
      "[ 1.  2.  4.  5. 23. 45. 11. 34.]\n",
      "[ 1  2  4  5 23 45 11 34]\n"
     ]
    }
   ],
   "source": [
    "x = np.array([1,2,4,5,23,45,11,34])\n",
    "new = np.float32(x)\n",
    "new_one = np.int_(new)\n",
    "print(\"Data types: \",x.dtype)\n",
    "print(\"Data types: \",new.dtype)\n",
    "print(\"Data types: \",new_one.dtype)\n",
    "print(x)\n",
    "print(new)\n",
    "print(new_one)"
   ]
  },
  {
   "cell_type": "code",
   "execution_count": 19,
   "id": "7677959d-4f0b-4445-98b8-91818defd016",
   "metadata": {},
   "outputs": [
    {
     "name": "stdout",
     "output_type": "stream",
     "text": [
      "[1. 2. 3. 4.]\n"
     ]
    }
   ],
   "source": [
    "x1= np.array([1,2,3,4])\n",
    "new_1 = x1.astype(float)\n",
    "print(new_1)"
   ]
  },
  {
   "cell_type": "markdown",
   "id": "0ac50284-ed62-46da-ad06-f04713d587f7",
   "metadata": {},
   "source": [
    "SHAPE"
   ]
  },
  {
   "cell_type": "code",
   "execution_count": 22,
   "id": "9235510e-a348-4692-baee-1d5ebde73154",
   "metadata": {},
   "outputs": [
    {
     "name": "stdout",
     "output_type": "stream",
     "text": [
      "[[1 2 3]\n",
      " [4 5 6]] (2, 3)\n"
     ]
    }
   ],
   "source": [
    "var = np.array([[1,2,3],[4,5,6]])\n",
    "print(var,var.shape)"
   ]
  },
  {
   "cell_type": "code",
   "execution_count": 25,
   "id": "a3728aff-62ef-4e15-b60c-824328e87610",
   "metadata": {},
   "outputs": [
    {
     "name": "stdout",
     "output_type": "stream",
     "text": [
      "[[[[1 2 3 4]]]] 4 (1, 1, 1, 4)\n"
     ]
    }
   ],
   "source": [
    "var1 = np.array([1,2,3,4],ndmin=4)\n",
    "print(var1,var1.ndim,var1.shape)"
   ]
  },
  {
   "cell_type": "markdown",
   "id": "54c30108-f4b4-4a0e-8ed1-5c1fe07b3b48",
   "metadata": {},
   "source": [
    "RESHAPE"
   ]
  },
  {
   "cell_type": "code",
   "execution_count": 32,
   "id": "10abd529-9265-4b86-8287-3f70fbdecd86",
   "metadata": {},
   "outputs": [
    {
     "name": "stdout",
     "output_type": "stream",
     "text": [
      "[1 2 3 4 5 6] \n",
      "\n",
      "1 \n",
      "\n",
      "[[1 2]\n",
      " [3 4]\n",
      " [5 6]]\n",
      "2 \n",
      "\n",
      "(3, 2)\n"
     ]
    }
   ],
   "source": [
    "var2 = np.array([1,2,3,4,5,6])\n",
    "print(var2,\"\\n\")\n",
    "print(var2.ndim,\"\\n\")\n",
    "var_new = var2.reshape(3,2)\n",
    "print(var_new)\n",
    "print(var_new.ndim,\"\\n\")\n",
    "print(var_new.shape)"
   ]
  },
  {
   "cell_type": "code",
   "execution_count": 40,
   "id": "b6af61c0-669e-4a18-b476-082f304e814e",
   "metadata": {},
   "outputs": [
    {
     "name": "stdout",
     "output_type": "stream",
     "text": [
      "[ 1  2  3  4  5  6 10 12 11 23 13 15] \n",
      "\n",
      "1 \n",
      "\n",
      "[[[ 1  2]\n",
      "  [ 3  4]]\n",
      "\n",
      " [[ 5  6]\n",
      "  [10 12]]\n",
      "\n",
      " [[11 23]\n",
      "  [13 15]]]\n",
      "3 \n",
      "\n",
      "(3, 2, 2)\n"
     ]
    }
   ],
   "source": [
    "var3 = np.array([1,2,3,4,5,6,10,12,11,23,13,15])\n",
    "print(var3,\"\\n\")\n",
    "print(var3.ndim,\"\\n\")\n",
    "var_new = var3.reshape(3,2,2)\n",
    "print(var_new)\n",
    "print(var_new.ndim,\"\\n\")\n",
    "print(var_new.shape)"
   ]
  },
  {
   "cell_type": "code",
   "execution_count": 41,
   "id": "798e66a0-f74e-4e9e-989c-168d7cc10593",
   "metadata": {},
   "outputs": [
    {
     "name": "stdout",
     "output_type": "stream",
     "text": [
      "[ 1  2  3  4  5  6 10 12 11 23 13 15] 1\n"
     ]
    }
   ],
   "source": [
    "one = var_new.reshape(-1)\n",
    "print(one,one.ndim)"
   ]
  },
  {
   "cell_type": "code",
   "execution_count": null,
   "id": "cd41b848-ad7b-4816-8bc1-444fe00b74a6",
   "metadata": {},
   "outputs": [],
   "source": []
  },
  {
   "cell_type": "code",
   "execution_count": null,
   "id": "64cfd989-01df-4a20-90e3-e645619b07b6",
   "metadata": {},
   "outputs": [],
   "source": []
  },
  {
   "cell_type": "code",
   "execution_count": null,
   "id": "7121d460-2bb4-4b0d-89f0-06a516de3aa2",
   "metadata": {},
   "outputs": [],
   "source": []
  },
  {
   "cell_type": "code",
   "execution_count": null,
   "id": "e9071f7b-bb54-4be2-8bd7-d80d605fd587",
   "metadata": {},
   "outputs": [],
   "source": []
  }
 ],
 "metadata": {
  "kernelspec": {
   "display_name": "Python 3 (ipykernel)",
   "language": "python",
   "name": "python3"
  },
  "language_info": {
   "codemirror_mode": {
    "name": "ipython",
    "version": 3
   },
   "file_extension": ".py",
   "mimetype": "text/x-python",
   "name": "python",
   "nbconvert_exporter": "python",
   "pygments_lexer": "ipython3",
   "version": "3.12.4"
  }
 },
 "nbformat": 4,
 "nbformat_minor": 5
}
