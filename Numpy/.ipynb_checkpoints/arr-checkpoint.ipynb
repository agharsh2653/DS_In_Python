import numpy as np
x= [1,2,3,4]
y = np.array([1,2,3,4,5])
print(y)
y
print(type(y))
print(y.ndim)
